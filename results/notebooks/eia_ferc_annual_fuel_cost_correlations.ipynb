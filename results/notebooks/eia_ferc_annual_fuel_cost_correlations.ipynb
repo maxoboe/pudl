{
 "cells": [
  {
   "cell_type": "markdown",
   "metadata": {},
   "source": [
    "## EIA and Ferc Annual Fuel Cost Correlations"
   ]
  },
  {
   "cell_type": "code",
   "execution_count": 7,
   "metadata": {
    "collapsed": false
   },
   "outputs": [],
   "source": [
    "import sys\n",
    "import os\n",
    "sys.path.append(os.path.abspath(os.path.join('..','..')))\n",
    "from pudl import pudl, ferc1, eia923, settings, constants\n",
    "from pudl import models, models_ferc1, models_eia923\n",
    "import numpy as np\n",
    "import pandas as pd\n",
    "import matplotlib.pyplot as plt\n",
    "import sqlalchemy as sa\n",
    "from sqlalchemy import and_, tuple_\n",
    "%matplotlib inline"
   ]
  },
  {
   "cell_type": "code",
   "execution_count": 8,
   "metadata": {
    "collapsed": false
   },
   "outputs": [],
   "source": [
    "pudl_engine = pudl.db_connect_pudl()"
   ]
  },
  {
   "cell_type": "markdown",
   "metadata": {},
   "source": [
    "## Get a list of all EIA plants' EIA plant_ids and PUDL plant_ids\n",
    "\n",
    "* Find all the FERC respondent IDs\n",
    "* Use the list of FERC respondent IDs to look up all the associated PUDL plant IDs\n",
    "* Find all the EIA plant IDs from the list of FERC respondent IDs\n",
    "* Find all the PUDL IDs associated with the EIA plants\n",
    "* Then we can look up all of the PUDL plant_id values associated with that utility_id\n",
    "* Finally we look up up all of the EIA 923 plant_id values associated with those PUDL plant_ids, FERC respondent IDs and plant names (and a tuple of those values)"
   ]
  },
  {
   "cell_type": "code",
   "execution_count": 13,
   "metadata": {
    "collapsed": false,
    "scrolled": false
   },
   "outputs": [],
   "source": [
    "Session = sa.orm.sessionmaker()\n",
    "Session.configure(bind = pudl_engine)\n",
    "session = Session()\n",
    "\n",
    "ferc_respondent_ids = [u.respondent_id for u in session.query(models.UtilityFERC1).all()]\n",
    "ferc_pudl_plant_ids = [u.plant_id_pudl for u in session.query(models.PlantFERC1).\\\n",
    "                                                    filter(models.PlantFERC1.respondent_id.in_(ferc_respondent_ids))]\n",
    "ferc_respondent_ids = [u.respondent_id for u in session.query(models.PlantFERC1).\\\n",
    "                                                    filter(models.PlantFERC1.plant_id_pudl.in_(ferc_pudl_plant_ids))]\n",
    "\n",
    "eia_plant_ids = [p.plant_id for p in session.query(models.PlantEIA923).\\\n",
    "                                                    filter(models.PlantEIA923.plant_id_pudl.in_(ferc_pudl_plant_ids))]\n",
    "shared_pudl_plant_ids = [p.plant_id_pudl for p in session.query(models.PlantEIA923).\\\n",
    "                                                    filter(models.PlantEIA923.plant_id.in_(eia_plant_ids))]\n",
    "\n",
    "ferc_plant_names = [p.plant_name for p in session.query(models.PlantFERC1).\\\n",
    "                                                     filter(models.PlantFERC1.\\\n",
    "                                                            plant_id_pudl.in_(shared_pudl_plant_ids))]\n",
    "ferc_plant_rids = [p.respondent_id for p in session.query(models.PlantFERC1).\\\n",
    "                                                     filter(models.PlantFERC1.\\\n",
    "                                                            plant_id_pudl.in_(shared_pudl_plant_ids))]\n",
    "\n",
    "shared_rids_names = [(p.respondent_id, p.plant_name) for p in session.query(models.PlantFERC1).\\\n",
    "                                                     filter(models.PlantFERC1.\\\n",
    "                                                            plant_id_pudl.in_(shared_pudl_plant_ids))]"
   ]
  },
  {
   "cell_type": "markdown",
   "metadata": {},
   "source": [
    "We'll connect to the database and pull the necessary fuel quantity and cost information from the EIA 923 fuel receipts and costs table, as well as the PUDL ID and the plant name from the EIA923 plants table."
   ]
  },
  {
   "cell_type": "code",
   "execution_count": 14,
   "metadata": {
    "collapsed": false
   },
   "outputs": [],
   "source": [
    "Session = sa.orm.sessionmaker()\n",
    "Session.configure(bind = pudl_engine)\n",
    "session = Session()\n",
    "\n",
    "frc_table = models.PUDLBase.metadata.tables['fuel_receipts_costs_eia923']\n",
    "plants_eia923_tbl = models.PUDLBase.metadata.tables['plants_eia923']\n",
    "\n",
    "frc_select = sa.sql.select([frc_table.c.plant_id,\n",
    "                            plants_eia923_tbl.c.plant_name,\n",
    "                            plants_eia923_tbl.c.plant_id_pudl,\n",
    "                            frc_table.c.fuel_quantity,\n",
    "                            frc_table.c.report_date,\n",
    "                            frc_table.c.fuel_cost]).\\\n",
    "                            where(frc_table.c.plant_id.in_(eia_plant_ids)).\\\n",
    "                            where(frc_table.c.plant_id == plants_eia923_tbl.c.plant_id)\n",
    "    \n",
    "frc_df = pd.read_sql(frc_select, pudl_engine)"
   ]
  },
  {
   "cell_type": "markdown",
   "metadata": {},
   "source": [
    "We'll make a handful of adjustments to the dataframe, calculating the total cost of each delivery and making the report date easier to work with."
   ]
  },
  {
   "cell_type": "code",
   "execution_count": 15,
   "metadata": {
    "collapsed": false
   },
   "outputs": [],
   "source": [
    "frc_df['total_fuel_cost'] = frc_df['fuel_cost'] * frc_df['fuel_quantity'] * .01\n",
    "frc_df['report_date'] = pd.to_datetime(frc_df['report_date'])\n",
    "frc_df['year'] = frc_df['report_date'].dt.year\n",
    "frc_df.index = frc_df['report_date']"
   ]
  },
  {
   "cell_type": "markdown",
   "metadata": {},
   "source": [
    "Grouping data by PUDL ID and year, we can calculate the total annual fuel cost for each plant using the EIA 923 data."
   ]
  },
  {
   "cell_type": "code",
   "execution_count": 18,
   "metadata": {
    "collapsed": false
   },
   "outputs": [],
   "source": [
    "frc_df['annual_fuel_cost'] = frc_df.groupby(['plant_id_pudl','year'])['total_fuel_cost'].transform(sum)"
   ]
  },
  {
   "cell_type": "markdown",
   "metadata": {},
   "source": [
    "We'll drop duplicates, leaving one entry per plant, per year."
   ]
  },
  {
   "cell_type": "code",
   "execution_count": null,
   "metadata": {
    "collapsed": false
   },
   "outputs": [],
   "source": [
    "frc_df.drop_duplicates(subset=['plant_id_pudl','year'],inplace=True)"
   ]
  },
  {
   "cell_type": "markdown",
   "metadata": {},
   "source": [
    "We'll do a similar exercise with FERC Form 1, pulling fuel expense data from the Steam table."
   ]
  },
  {
   "cell_type": "code",
   "execution_count": 21,
   "metadata": {
    "collapsed": false,
    "scrolled": false
   },
   "outputs": [],
   "source": [
    "Session = sa.orm.sessionmaker()\n",
    "Session.configure(bind = pudl_engine)\n",
    "session = Session()\n",
    "\n",
    "steam_table = models.PUDLBase.metadata.tables['plants_steam_ferc1']\n",
    "plants_ferc1_tbl = models.PUDLBase.metadata.tables['plants_ferc1']\n",
    "\n",
    "steam_select = sa.sql.select([steam_table.c.respondent_id,\n",
    "                            steam_table.c.plant_name,\n",
    "                            steam_table.c.report_year,\n",
    "                            steam_table.c.expns_fuel,\n",
    "                            plants_ferc1_tbl.c.plant_id_pudl]).\\\n",
    "                            where(steam_table.c.plant_name == plants_ferc1_tbl.c.plant_name)\n",
    "\n",
    "steam_df = pd.read_sql(steam_select, pudl_engine)"
   ]
  },
  {
   "cell_type": "markdown",
   "metadata": {},
   "source": [
    "We'll generate a list of tuples containing the identifying information for a FERC plant, the respondent ID and plant name."
   ]
  },
  {
   "cell_type": "code",
   "execution_count": 22,
   "metadata": {
    "collapsed": false
   },
   "outputs": [],
   "source": [
    "steam_df['rid_name'] = list(zip(steam_df.respondent_id,steam_df.plant_name))\n",
    "steam_df = steam_df[steam_df.rid_name.isin(shared_rids_names)]\n",
    "steam_df.drop_duplicates(subset=['rid_name','report_year'],inplace=True)"
   ]
  },
  {
   "cell_type": "markdown",
   "metadata": {},
   "source": [
    "We'll then group again by year and by PUDL ID to get an annual sum of fuel expenses."
   ]
  },
  {
   "cell_type": "code",
   "execution_count": 23,
   "metadata": {
    "collapsed": false
   },
   "outputs": [],
   "source": [
    "steam_df['ferc_fuel_sums'] = steam_df.groupby(['plant_id_pudl','report_year'])['expns_fuel'].transform(sum)"
   ]
  },
  {
   "cell_type": "markdown",
   "metadata": {},
   "source": [
    "Merging the two dataframes on the PUDL ID will give us records where there is a total fuel cost value missing from EIA 923 and a total fuel expense value missing from FERC Form 1 so we'll drop NaN values after merging."
   ]
  },
  {
   "cell_type": "code",
   "execution_count": 24,
   "metadata": {
    "collapsed": false
   },
   "outputs": [],
   "source": [
    "merged_df = steam_df.merge(frc_df,how=\"left\",left_on=[\"plant_id_pudl\",\"report_year\"],right_on=['plant_id_pudl','year'])\n",
    "merged_df = merged_df[(merged_df.ferc_fuel_sums > 0) & (merged_df.annual_fuel_cost > 0)]\n",
    "merged_df.dropna(subset=['annual_fuel_cost','ferc_fuel_sums'],inplace=True)"
   ]
  },
  {
   "cell_type": "markdown",
   "metadata": {},
   "source": [
    "We're now in a position to plot the data and see what the correlation between fuel cost is."
   ]
  },
  {
   "cell_type": "code",
   "execution_count": 26,
   "metadata": {
    "collapsed": false
   },
   "outputs": [
    {
     "data": {
      "text/plain": [
       "<matplotlib.text.Text at 0x119e04390>"
      ]
     },
     "execution_count": 26,
     "metadata": {},
     "output_type": "execute_result"
    },
    {
     "data": {
      "image/png": "[encoded data removed]",
      "text/plain": [
       "<matplotlib.figure.Figure at 0x118fade80>"
      ]
     },
     "metadata": {},
     "output_type": "display_data"
    }
   ],
   "source": [
    "plt.figure(figsize=(14,10))\n",
    "plt.scatter(merged_df.ferc_fuel_sums,merged_df.annual_fuel_cost)\n",
    "plt.xlabel('FERC annual fuel expenses (dollars)')\n",
    "plt.ylabel('EIA fuel receipts and costs, annual cost of fuel delivered (dollars)')\n",
    "plt.title('FERC and EIA: Annual fuel cost comparsion')"
   ]
  },
  {
   "cell_type": "code",
   "execution_count": 28,
   "metadata": {
    "collapsed": false
   },
   "outputs": [
    {
     "data": {
      "text/html": [
       "<div>\n",
       "<table border=\"1\" class=\"dataframe\">\n",
       "  <thead>\n",
       "    <tr style=\"text-align: right;\">\n",
       "      <th></th>\n",
       "      <th>respondent_id</th>\n",
       "      <th>report_year</th>\n",
       "      <th>expns_fuel</th>\n",
       "      <th>plant_id_pudl</th>\n",
       "      <th>ferc_fuel_sums</th>\n",
       "      <th>plant_id</th>\n",
       "      <th>fuel_quantity</th>\n",
       "      <th>fuel_cost</th>\n",
       "      <th>total_fuel_cost</th>\n",
       "      <th>year</th>\n",
       "      <th>annual_fuel_cost</th>\n",
       "    </tr>\n",
       "  </thead>\n",
       "  <tbody>\n",
       "    <tr>\n",
       "      <th>respondent_id</th>\n",
       "      <td>1.000000</td>\n",
       "      <td>0.059025</td>\n",
       "      <td>-0.228392</td>\n",
       "      <td>0.093753</td>\n",
       "      <td>-0.201092</td>\n",
       "      <td>0.016831</td>\n",
       "      <td>-0.041172</td>\n",
       "      <td>0.002848</td>\n",
       "      <td>-0.049044</td>\n",
       "      <td>0.059025</td>\n",
       "      <td>-0.031087</td>\n",
       "    </tr>\n",
       "    <tr>\n",
       "      <th>report_year</th>\n",
       "      <td>0.059025</td>\n",
       "      <td>1.000000</td>\n",
       "      <td>-0.050650</td>\n",
       "      <td>-0.036055</td>\n",
       "      <td>-0.054655</td>\n",
       "      <td>0.077858</td>\n",
       "      <td>0.050704</td>\n",
       "      <td>0.007233</td>\n",
       "      <td>0.025131</td>\n",
       "      <td>1.000000</td>\n",
       "      <td>0.025568</td>\n",
       "    </tr>\n",
       "    <tr>\n",
       "      <th>expns_fuel</th>\n",
       "      <td>-0.228392</td>\n",
       "      <td>-0.050650</td>\n",
       "      <td>1.000000</td>\n",
       "      <td>-0.104590</td>\n",
       "      <td>0.538017</td>\n",
       "      <td>-0.046966</td>\n",
       "      <td>0.107676</td>\n",
       "      <td>-0.004147</td>\n",
       "      <td>0.121742</td>\n",
       "      <td>-0.050650</td>\n",
       "      <td>0.208126</td>\n",
       "    </tr>\n",
       "    <tr>\n",
       "      <th>plant_id_pudl</th>\n",
       "      <td>0.093753</td>\n",
       "      <td>-0.036055</td>\n",
       "      <td>-0.104590</td>\n",
       "      <td>1.000000</td>\n",
       "      <td>-0.071671</td>\n",
       "      <td>0.050520</td>\n",
       "      <td>-0.004591</td>\n",
       "      <td>-0.001947</td>\n",
       "      <td>-0.000173</td>\n",
       "      <td>-0.036055</td>\n",
       "      <td>0.051446</td>\n",
       "    </tr>\n",
       "    <tr>\n",
       "      <th>ferc_fuel_sums</th>\n",
       "      <td>-0.201092</td>\n",
       "      <td>-0.054655</td>\n",
       "      <td>0.538017</td>\n",
       "      <td>-0.071671</td>\n",
       "      <td>1.000000</td>\n",
       "      <td>-0.096331</td>\n",
       "      <td>0.013726</td>\n",
       "      <td>-0.005706</td>\n",
       "      <td>0.026443</td>\n",
       "      <td>-0.054655</td>\n",
       "      <td>0.050615</td>\n",
       "    </tr>\n",
       "    <tr>\n",
       "      <th>plant_id</th>\n",
       "      <td>0.016831</td>\n",
       "      <td>0.077858</td>\n",
       "      <td>-0.046966</td>\n",
       "      <td>0.050520</td>\n",
       "      <td>-0.096331</td>\n",
       "      <td>1.000000</td>\n",
       "      <td>0.124804</td>\n",
       "      <td>0.021639</td>\n",
       "      <td>0.100875</td>\n",
       "      <td>0.077858</td>\n",
       "      <td>0.116067</td>\n",
       "    </tr>\n",
       "    <tr>\n",
       "      <th>fuel_quantity</th>\n",
       "      <td>-0.041172</td>\n",
       "      <td>0.050704</td>\n",
       "      <td>0.107676</td>\n",
       "      <td>-0.004591</td>\n",
       "      <td>0.013726</td>\n",
       "      <td>0.124804</td>\n",
       "      <td>1.000000</td>\n",
       "      <td>-0.002442</td>\n",
       "      <td>0.956076</td>\n",
       "      <td>0.050704</td>\n",
       "      <td>0.610192</td>\n",
       "    </tr>\n",
       "    <tr>\n",
       "      <th>fuel_cost</th>\n",
       "      <td>0.002848</td>\n",
       "      <td>0.007233</td>\n",
       "      <td>-0.004147</td>\n",
       "      <td>-0.001947</td>\n",
       "      <td>-0.005706</td>\n",
       "      <td>0.021639</td>\n",
       "      <td>-0.002442</td>\n",
       "      <td>1.000000</td>\n",
       "      <td>-0.000779</td>\n",
       "      <td>0.007233</td>\n",
       "      <td>0.002248</td>\n",
       "    </tr>\n",
       "    <tr>\n",
       "      <th>total_fuel_cost</th>\n",
       "      <td>-0.049044</td>\n",
       "      <td>0.025131</td>\n",
       "      <td>0.121742</td>\n",
       "      <td>-0.000173</td>\n",
       "      <td>0.026443</td>\n",
       "      <td>0.100875</td>\n",
       "      <td>0.956076</td>\n",
       "      <td>-0.000779</td>\n",
       "      <td>1.000000</td>\n",
       "      <td>0.025131</td>\n",
       "      <td>0.641891</td>\n",
       "    </tr>\n",
       "    <tr>\n",
       "      <th>year</th>\n",
       "      <td>0.059025</td>\n",
       "      <td>1.000000</td>\n",
       "      <td>-0.050650</td>\n",
       "      <td>-0.036055</td>\n",
       "      <td>-0.054655</td>\n",
       "      <td>0.077858</td>\n",
       "      <td>0.050704</td>\n",
       "      <td>0.007233</td>\n",
       "      <td>0.025131</td>\n",
       "      <td>1.000000</td>\n",
       "      <td>0.025568</td>\n",
       "    </tr>\n",
       "    <tr>\n",
       "      <th>annual_fuel_cost</th>\n",
       "      <td>-0.031087</td>\n",
       "      <td>0.025568</td>\n",
       "      <td>0.208126</td>\n",
       "      <td>0.051446</td>\n",
       "      <td>0.050615</td>\n",
       "      <td>0.116067</td>\n",
       "      <td>0.610192</td>\n",
       "      <td>0.002248</td>\n",
       "      <td>0.641891</td>\n",
       "      <td>0.025568</td>\n",
       "      <td>1.000000</td>\n",
       "    </tr>\n",
       "  </tbody>\n",
       "</table>\n",
       "</div>"
      ],
      "text/plain": [
       "                  respondent_id  report_year  expns_fuel  plant_id_pudl  \\\n",
       "respondent_id          1.000000     0.059025   -0.228392       0.093753   \n",
       "report_year            0.059025     1.000000   -0.050650      -0.036055   \n",
       "expns_fuel            -0.228392    -0.050650    1.000000      -0.104590   \n",
       "plant_id_pudl          0.093753    -0.036055   -0.104590       1.000000   \n",
       "ferc_fuel_sums        -0.201092    -0.054655    0.538017      -0.071671   \n",
       "plant_id               0.016831     0.077858   -0.046966       0.050520   \n",
       "fuel_quantity         -0.041172     0.050704    0.107676      -0.004591   \n",
       "fuel_cost              0.002848     0.007233   -0.004147      -0.001947   \n",
       "total_fuel_cost       -0.049044     0.025131    0.121742      -0.000173   \n",
       "year                   0.059025     1.000000   -0.050650      -0.036055   \n",
       "annual_fuel_cost      -0.031087     0.025568    0.208126       0.051446   \n",
       "\n",
       "                  ferc_fuel_sums  plant_id  fuel_quantity  fuel_cost  \\\n",
       "respondent_id          -0.201092  0.016831      -0.041172   0.002848   \n",
       "report_year            -0.054655  0.077858       0.050704   0.007233   \n",
       "expns_fuel              0.538017 -0.046966       0.107676  -0.004147   \n",
       "plant_id_pudl          -0.071671  0.050520      -0.004591  -0.001947   \n",
       "ferc_fuel_sums          1.000000 -0.096331       0.013726  -0.005706   \n",
       "plant_id               -0.096331  1.000000       0.124804   0.021639   \n",
       "fuel_quantity           0.013726  0.124804       1.000000  -0.002442   \n",
       "fuel_cost              -0.005706  0.021639      -0.002442   1.000000   \n",
       "total_fuel_cost         0.026443  0.100875       0.956076  -0.000779   \n",
       "year                   -0.054655  0.077858       0.050704   0.007233   \n",
       "annual_fuel_cost        0.050615  0.116067       0.610192   0.002248   \n",
       "\n",
       "                  total_fuel_cost      year  annual_fuel_cost  \n",
       "respondent_id           -0.049044  0.059025         -0.031087  \n",
       "report_year              0.025131  1.000000          0.025568  \n",
       "expns_fuel               0.121742 -0.050650          0.208126  \n",
       "plant_id_pudl           -0.000173 -0.036055          0.051446  \n",
       "ferc_fuel_sums           0.026443 -0.054655          0.050615  \n",
       "plant_id                 0.100875  0.077858          0.116067  \n",
       "fuel_quantity            0.956076  0.050704          0.610192  \n",
       "fuel_cost               -0.000779  0.007233          0.002248  \n",
       "total_fuel_cost          1.000000  0.025131          0.641891  \n",
       "year                     0.025131  1.000000          0.025568  \n",
       "annual_fuel_cost         0.641891  0.025568          1.000000  "
      ]
     },
     "execution_count": 28,
     "metadata": {},
     "output_type": "execute_result"
    }
   ],
   "source": [
    "merged_df.corr()"
   ]
  },
  {
   "cell_type": "code",
   "execution_count": null,
   "metadata": {
    "collapsed": true
   },
   "outputs": [],
   "source": []
  }
 ],
 "metadata": {
  "anaconda-cloud": {},
  "kernelspec": {
   "display_name": "Python 3",
   "language": "python",
   "name": "python3"
  },
  "language_info": {
   "codemirror_mode": {
    "name": "ipython",
    "version": 3
   },
   "file_extension": ".py",
   "mimetype": "text/x-python",
   "name": "python",
   "nbconvert_exporter": "python",
   "pygments_lexer": "ipython3",
   "version": "3.6.0"
  }
 },
 "nbformat": 4,
 "nbformat_minor": 1
}
